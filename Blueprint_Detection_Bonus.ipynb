{
  "nbformat": 4,
  "nbformat_minor": 0,
  "metadata": {
    "colab": {
      "name": "Blueprint_Detection_Bonus.ipynb",
      "provenance": []
    },
    "kernelspec": {
      "name": "python3",
      "display_name": "Python 3"
    },
    "language_info": {
      "name": "python"
    }
  },
  "cells": [
    {
      "cell_type": "code",
      "source": [
        "!wget -O yolo.weights https://pjreddie.com/media/files/yolov3-spp.weights\n",
        "!wget -O yolo.cfg https://raw.githubusercontent.com/AlexeyAB/darknet/master/cfg/yolov3-spp.cfg\n",
        "!wget -O classes.txt https://raw.githubusercontent.com/AlexeyAB/darknet/master/cfg/coco.names"
      ],
      "metadata": {
        "id": "AoL_l2Z6LGXv"
      },
      "execution_count": null,
      "outputs": []
    },
    {
      "cell_type": "code",
      "source": [
        "!wget -O image.jpg https://static.ohga.it/wp-content/uploads/sites/24/2021/05/elefantino-1536x1024.jpg\n",
        "!wget -O image2.jpg https://cloud.rtl.it/RTLFM/News/Article/1000x1000/oggi-a-la-giornata-mondiale-dedicata-alla-giraffa-xxlts.jpg"
      ],
      "metadata": {
        "id": "-FlNdmKrOIGt"
      },
      "execution_count": null,
      "outputs": []
    },
    {
      "cell_type": "code",
      "execution_count": null,
      "metadata": {
        "id": "KWDLoh5wJ7MN"
      },
      "outputs": [],
      "source": [
        "import cv2\n",
        "import numpy as np\n",
        "\n",
        "# Load Network\n",
        "net = cv2.dnn.readNet(\"yolo.weights\", \"yolo.cfg\")\n",
        "model = cv2.dnn_DetectionModel(net)\n",
        "model.setInputParams(size=(512, 512), scale=1/255)\n",
        "\n",
        "classes = []\n",
        "with open(\"classes.txt\", \"r\") as file_object:\n",
        "    for class_name in file_object.readlines():\n",
        "        class_name = class_name.strip()\n",
        "        classes.append(class_name)\n",
        "\n",
        "colors = np.random.uniform(0, 255, size=(len(classes), 3))"
      ]
    },
    {
      "cell_type": "code",
      "source": [
        "# Load Image\n",
        "img = cv2.imread(\"image2.jpg\")\n",
        "\n",
        "# Detect Objects\n",
        "class_ids, scores, boxes = model.detect(img, nmsThreshold=0.4)\n",
        "\n",
        "for (class_id, score, box) in zip(class_ids, scores, boxes):\n",
        "    x, y, w, h = box\n",
        "    class_name = classes[class_id[0]]\n",
        "    color = colors[class_id[0]]\n",
        "    cv2.putText(img, \"{} {}\".format(class_name, score), (x, y - 15), cv2.FONT_HERSHEY_PLAIN, 2, color, 2)\n",
        "    cv2.rectangle(img, (x, y), (x + w, y + h), color, 3)\n",
        "\n",
        "from google.colab.patches import cv2_imshow\n",
        "\n",
        "cv2_imshow(img)"
      ],
      "metadata": {
        "id": "VmERhBguNC91"
      },
      "execution_count": null,
      "outputs": []
    }
  ]
}